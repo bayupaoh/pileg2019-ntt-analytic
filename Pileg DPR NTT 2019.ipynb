{
 "cells": [
  {
   "cell_type": "markdown",
   "metadata": {},
   "source": [
    "# ANALISIS DATA CALEG DPR NTT 2019\n",
    "Untuk artikel lengkapnya bisa cek di [sini](#). Untuk pengolahan data menggunakan bahasa python dan Jupyter Notebook. Data yang diolah bisa dilihat di bawah.\n",
    "\n",
    "## Prerequisites\n",
    "1. Install [Python](https://realpython.com/installing-python/)\n",
    "2. Install [Jupiter Notebook](https://jupyter.readthedocs.io/en/latest/install.html)\n",
    "\n",
    "## Install Library\n",
    "```sh\n",
    "$ pip3 install mysql-connector\n",
    "$ pip3 install matplotlib\n",
    "```\n",
    "\n",
    "\n",
    "\n"
   ]
  },
  {
   "cell_type": "markdown",
   "metadata": {},
   "source": [
    "### Import"
   ]
  },
  {
   "cell_type": "code",
   "execution_count": 1,
   "metadata": {},
   "outputs": [],
   "source": [
    "import mysql.connector\n",
    "import matplotlib.pyplot as plt\n"
   ]
  },
  {
   "cell_type": "markdown",
   "metadata": {},
   "source": [
    "### Base Configuration"
   ]
  },
  {
   "cell_type": "code",
   "execution_count": 16,
   "metadata": {},
   "outputs": [],
   "source": [
    "mydb = mysql.connector.connect(\n",
    "  host=\"127.0.0.1\",\n",
    "  user=\"root\",\n",
    "  passwd=\"\",\n",
    "  db=\"pemilu_ntt\"\n",
    ")\n",
    "\n",
    "def selectDataMySQL(query):\n",
    "    mycursor = mydb.cursor()\n",
    "    mycursor.execute(query)\n",
    "    myresult = mycursor.fetchall()\n",
    "    return myresult\n",
    "\n",
    "def showPieGraphic(label,value,title):\n",
    "    plt.pie(value, labels=label, startangle=90, autopct='%.1f%%')\n",
    "    plt.title(title)\n",
    "    plt.show()"
   ]
  },
  {
   "cell_type": "markdown",
   "metadata": {},
   "source": [
    "### Caleg termuda, tertua dan rata-rata umur caleg\n"
   ]
  },
  {
   "cell_type": "code",
   "execution_count": 7,
   "metadata": {},
   "outputs": [
    {
     "name": "stdout",
     "output_type": "stream",
     "text": [
      "Caleg termuda dari Dapil NTT 1 adalah SITI AMINAH dengan umur 23\n",
      "Caleg termuda dari Dapil NTT 2 adalah SRI ISMAWATI dengan umur 24\n",
      "Caleg tertua dari Dapil NTT 1 adalah PAULUS MOA dengan umur 79\n",
      "Caleg tertua dari Dapil NTT 2 adalah MARIA AGUSTINA NOACH dengan umur 81\n",
      "Rata-rata umur caleg dari Dapil NTT 1 adalah 49.2892 tahun\n",
      "Rata-rata umur caleg dari Dapil NTT 2 adalah 47.7835 tahun\n"
     ]
    }
   ],
   "source": [
    "dataYoungerNtt1 = selectDataMySQL('SELECT  nama_lengkap,YEAR(CURDATE()) - YEAR(STR_TO_DATE(tanggal_lahir,\"%d/%m/%Y\")) AS age FROM caleg_details where (YEAR(CURDATE()) - YEAR(STR_TO_DATE(tanggal_lahir,\"%d/%m/%Y\")) = (SELECT min(YEAR(CURDATE()) - YEAR(STR_TO_DATE(tanggal_lahir,\"%d/%m/%Y\"))) from caleg_details WHERE dapil_id = 60)) and dapil_id = 60')\n",
    "print(\"Caleg termuda dari Dapil NTT 1 adalah %s dengan umur %s\"%(dataYoungerNtt1[0][0],dataYoungerNtt1[0][1]))\n",
    "\n",
    "dataYoungerNtt2 = selectDataMySQL('SELECT  nama_lengkap,YEAR(CURDATE()) - YEAR(STR_TO_DATE(tanggal_lahir,\"%d/%m/%Y\")) AS age FROM caleg_details where (YEAR(CURDATE()) - YEAR(STR_TO_DATE(tanggal_lahir,\"%d/%m/%Y\")) = (SELECT min(YEAR(CURDATE()) - YEAR(STR_TO_DATE(tanggal_lahir,\"%d/%m/%Y\"))) from caleg_details WHERE dapil_id = 61)) and dapil_id = 61')\n",
    "print(\"Caleg termuda dari Dapil NTT 2 adalah %s dengan umur %s\"%(dataYoungerNtt2[0][0],dataYoungerNtt2[0][1]))\n",
    "\n",
    "dataOlderNtt1 = selectDataMySQL('SELECT  nama_lengkap,YEAR(CURDATE()) - YEAR(STR_TO_DATE(tanggal_lahir,\"%d/%m/%Y\")) AS age FROM caleg_details where (YEAR(CURDATE()) - YEAR(STR_TO_DATE(tanggal_lahir,\"%d/%m/%Y\")) = (SELECT max(YEAR(CURDATE()) - YEAR(STR_TO_DATE(tanggal_lahir,\"%d/%m/%Y\"))) from caleg_details WHERE dapil_id = 60)) and dapil_id = 60')\n",
    "print(\"Caleg tertua dari Dapil NTT 1 adalah %s dengan umur %s\"%(dataOlderNtt1[0][0],dataOlderNtt1[0][1]))\n",
    "\n",
    "dataOlderNtt2 = selectDataMySQL('SELECT  nama_lengkap,YEAR(CURDATE()) - YEAR(STR_TO_DATE(tanggal_lahir,\"%d/%m/%Y\")) AS age FROM caleg_details where (YEAR(CURDATE()) - YEAR(STR_TO_DATE(tanggal_lahir,\"%d/%m/%Y\")) = (SELECT max(YEAR(CURDATE()) - YEAR(STR_TO_DATE(tanggal_lahir,\"%d/%m/%Y\"))) from caleg_details WHERE dapil_id = 61)) and dapil_id = 61')\n",
    "print(\"Caleg tertua dari Dapil NTT 2 adalah %s dengan umur %s\"%(dataOlderNtt2[0][0],dataOlderNtt2[0][1]))\n",
    "\n",
    "averageOldNtt1 = selectDataMySQL('SELECT AVG(YEAR(CURDATE()) - YEAR(STR_TO_DATE(tanggal_lahir,\"%d/%m/%Y\"))) as average FROM caleg_details where dapil_id = 60')\n",
    "print(\"Rata-rata umur caleg dari Dapil NTT 1 adalah %s tahun\"%(averageOldNtt1[0][0]))\n",
    "\n",
    "averageOldNtt2 = selectDataMySQL('SELECT AVG(YEAR(CURDATE()) - YEAR(STR_TO_DATE(tanggal_lahir,\"%d/%m/%Y\"))) as average FROM caleg_details where dapil_id = 61')\n",
    "print(\"Rata-rata umur caleg dari Dapil NTT 2 adalah %s tahun\"%(averageOldNtt2[0][0]))\n",
    "\n"
   ]
  },
  {
   "cell_type": "markdown",
   "metadata": {},
   "source": [
    "\n",
    "### Distribusi jumlah caleg berdasarkan jenis kelamin\n"
   ]
  },
  {
   "cell_type": "code",
   "execution_count": 17,
   "metadata": {},
   "outputs": [
    {
     "data": {
      "image/png": "[encoded data removed]",
      "text/plain": [
       "<Figure size 432x288 with 1 Axes>"
      ]
     },
     "metadata": {},
     "output_type": "display_data"
    }
   ],
   "source": [
    "dataAgeNtt1 = selectDataMySQL('SELECT jenis_kelamin,COUNT(jenis_kelamin) FROM caleg_details WHERE dapil_id = 60 GROUP by jenis_kelamin')\n",
    "jenisKelamin = []\n",
    "jumlah = []\n",
    "for data in dataAgeNtt1:\n",
    "    jenisKelamin.append(data[0])\n",
    "    jumlah.append(data[1])\n",
    "\n",
    "showPieGraphic(jenisKelamin,jumlah,'Distribusi Caleg Berdasarkan Jenis Kelamin Dapil NTT 1')\n"
   ]
  },
  {
   "cell_type": "code",
   "execution_count": 18,
   "metadata": {},
   "outputs": [
    {
     "data": {
      "image/png": "[encoded data removed]",
      "text/plain": [
       "<Figure size 432x288 with 1 Axes>"
      ]
     },
     "metadata": {},
     "output_type": "display_data"
    }
   ],
   "source": [
    "dataAgeNtt1 = selectDataMySQL('SELECT jenis_kelamin,COUNT(jenis_kelamin) FROM caleg_details WHERE dapil_id = 61 GROUP by jenis_kelamin')\n",
    "jenisKelamin = []\n",
    "jumlah = []\n",
    "for data in dataAgeNtt1:\n",
    "    jenisKelamin.append(data[0])\n",
    "    jumlah.append(data[1])\n",
    "\n",
    "showPieGraphic(jenisKelamin,jumlah,'Distribusi Caleg Berdasarkan Jenis Kelamin Dapil NTT 2')\n"
   ]
  },
  {
   "cell_type": "markdown",
   "metadata": {},
   "source": [
    "### Distribusi jumlah caleg berdasarkan pendidikan\n",
    "\n"
   ]
  },
  {
   "cell_type": "code",
   "execution_count": null,
   "metadata": {},
   "outputs": [],
   "source": []
  },
  {
   "cell_type": "markdown",
   "metadata": {},
   "source": [
    "### Distribusi jumlah caleg berdasarkan agama\n",
    "\n"
   ]
  },
  {
   "cell_type": "code",
   "execution_count": null,
   "metadata": {},
   "outputs": [],
   "source": []
  },
  {
   "cell_type": "markdown",
   "metadata": {},
   "source": [
    "### Distribusi jumlah caleg berdasarkan umur\n",
    "\n"
   ]
  },
  {
   "cell_type": "code",
   "execution_count": null,
   "metadata": {},
   "outputs": [],
   "source": []
  },
  {
   "cell_type": "markdown",
   "metadata": {},
   "source": [
    "### Distribusi jumlah caleg berdasarkan pekerjaan\n",
    "\n"
   ]
  },
  {
   "cell_type": "code",
   "execution_count": null,
   "metadata": {},
   "outputs": [],
   "source": []
  },
  {
   "cell_type": "markdown",
   "metadata": {},
   "source": [
    "### Distribusi jumlah caleg berdasarkan pendidikan"
   ]
  }
 ],
 "metadata": {
  "kernelspec": {
   "display_name": "Python 3",
   "language": "python",
   "name": "python3"
  },
  "language_info": {
   "codemirror_mode": {
    "name": "ipython",
    "version": 3
   },
   "file_extension": ".py",
   "mimetype": "text/x-python",
   "name": "python",
   "nbconvert_exporter": "python",
   "pygments_lexer": "ipython3",
   "version": "3.6.5"
  }
 },
 "nbformat": 4,
 "nbformat_minor": 2
}
